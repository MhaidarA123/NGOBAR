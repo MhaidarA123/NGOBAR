{
  "nbformat": 4,
  "nbformat_minor": 0,
  "metadata": {
    "colab": {
      "provenance": [],
      "authorship_tag": "ABX9TyNcXgChjt1BSiEv323G+T0l",
      "include_colab_link": true
    },
    "kernelspec": {
      "name": "python3",
      "display_name": "Python 3"
    },
    "language_info": {
      "name": "python"
    }
  },
  "cells": [
    {
      "cell_type": "markdown",
      "metadata": {
        "id": "view-in-github",
        "colab_type": "text"
      },
      "source": [
        "<a href=\"https://colab.research.google.com/github/MhaidarA123/NGOBAR/blob/main/latihan_phyton1.ipynb\" target=\"_parent\"><img src=\"https://colab.research.google.com/assets/colab-badge.svg\" alt=\"Open In Colab\"/></a>"
      ]
    },
    {
      "cell_type": "code",
      "source": [
        "mahasiswa = {\n",
        "    \"nama\": \"Haidar Abdullah\",\n",
        "    \"nim\": \"3420230043\",\n",
        "    \"jurusan\": \"informatika\"\n",
        "}\n",
        "\n",
        "print(mahasiswa)\n",
        "\n",
        "angka_pertama = 10\n",
        "angka_kedua = 5\n",
        "operator = input(\"/\")\n",
        "\n",
        "if operator == \"+\":\n",
        "  hasil = angka_pertama + angka_kedua\n",
        "elif operator == \"-\":\n",
        "  hasil = angka_pertama - angka_kedua\n",
        "elif operator == \"*\":\n",
        "  hasil = angka_pertama * angka_kedua\n",
        "elif operator == \"/\":\n",
        "  if angka_kedua == 0:\n",
        "    hasil = \"Error: Pembagian dengan nol\"\n",
        "  else:\n",
        "    hasil = angka_pertama / angka_kedua\n",
        "else:\n",
        "  hasil = \"Error: Operator tidak valid\"\n",
        "\n",
        "print(hasil)"
      ],
      "metadata": {
        "colab": {
          "base_uri": "https://localhost:8080/"
        },
        "id": "rY6PNRxLsbRZ",
        "outputId": "23db8dd4-c1d1-4f73-bf8f-9e68cfb3fa65"
      },
      "execution_count": null,
      "outputs": [
        {
          "output_type": "stream",
          "name": "stdout",
          "text": [
            "{'nama': 'Haidar Abdullah', 'nim': '3420230043', 'jurusan': 'informatika'}\n",
            "/\n",
            "2.0\n"
          ]
        }
      ]
    },
    {
      "cell_type": "code",
      "execution_count": null,
      "metadata": {
        "colab": {
          "base_uri": "https://localhost:8080/"
        },
        "id": "VxNYa9YOrgNo",
        "outputId": "a9f3343a-1d32-430c-8172-156cb8e4bcd8"
      },
      "outputs": [
        {
          "output_type": "stream",
          "name": "stdout",
          "text": [
            "{'nama': 'Haidar Abdullah', 'nim': '3420230043', 'jurusan': 'informatika'}\n",
            "Masukkan batas deret Fibonacci: 32\n",
            "10\n",
            "5\n",
            "15051745\n"
          ]
        }
      ],
      "source": [
        "mahasiswa = {\n",
        "    \"nama\": \"Haidar Abdullah\",\n",
        "    \"nim\": \"3420230043\",\n",
        "    \"jurusan\": \"informatika\"\n",
        "}\n",
        "\n",
        "print(mahasiswa)\n",
        "\n",
        "batas = int(input(\"Masukkan batas deret Fibonacci: \"))\n",
        "\n",
        "a, b = 10, 5\n",
        "\n",
        "if batas <= 0:\n",
        "  print(\"Masukkan batas yang lebih besar dari 0\")\n",
        "elif batas == 1:\n",
        "  print(a)\n",
        "else:\n",
        "  print(a)\n",
        "  print(b)\n",
        "  for i in range(2, batas):\n",
        "    c = a + b\n",
        "    a, b = b, c\n",
        "  print(c)"
      ]
    },
    {
      "cell_type": "code",
      "source": [
        "mahasiswa = {\n",
        "    \"nama\": \"Haidar Abdullah\",\n",
        "    \"nim\": \"3420230043\",\n",
        "    \"jurusan\": \"informatika\"\n",
        "}\n",
        "\n",
        "print(mahasiswa)\n",
        "\n",
        "angka = [2, 4, 6, 8, 10, 12, 14, 16, 18, 20]\n",
        "while True:\n",
        "    try:\n",
        "        bilangan = float(input(\"Masukkan bilangan (atau ketik 'selesai'): \"))\n",
        "        angka.append(bilangan)\n",
        "    except ValueError:\n",
        "        if input(\"Apakah anda ingin berhenti memasukkan angka (ya/tidak)? \").lower() == 'ya':\n",
        "            break\n",
        "        else:\n",
        "            continue\n",
        "\n",
        "if angka:\n",
        "    nima = max(angka)\n",
        "    nimi = min(angka)\n",
        "    print(\"Nilai maksimum:\", nima)\n",
        "    print(\"Nilai minimum:\", nimi)\n",
        "else:\n",
        "    print(\"Tidak ada angka yang dimasukkan.\")"
      ],
      "metadata": {
        "colab": {
          "base_uri": "https://localhost:8080/"
        },
        "id": "70cI_KLg0Mmm",
        "outputId": "df527e34-446c-485c-9377-5f611090f901"
      },
      "execution_count": null,
      "outputs": [
        {
          "output_type": "stream",
          "name": "stdout",
          "text": [
            "{'nama': 'Haidar Abdullah', 'nim': '3420230043', 'jurusan': 'informatika'}\n",
            "Masukkan bilangan (atau ketik 'selesai'): 10\n",
            "Masukkan bilangan (atau ketik 'selesai'): 12\n",
            "Masukkan bilangan (atau ketik 'selesai'): \n",
            "Apakah anda ingin berhenti memasukkan angka (ya/tidak)? ya\n",
            "Nilai maksimum: 20\n",
            "Nilai minimum: 2\n"
          ]
        }
      ]
    }
  ]
}